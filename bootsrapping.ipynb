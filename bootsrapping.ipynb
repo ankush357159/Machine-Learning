{
 "cells": [
  {
   "cell_type": "code",
   "execution_count": 1,
   "metadata": {},
   "outputs": [],
   "source": [
    "import numpy as np\n"
   ]
  },
  {
   "cell_type": "code",
   "execution_count": 2,
   "metadata": {},
   "outputs": [],
   "source": [
    "def bootstrap_dataset(dataset, n_samples):\n",
    "    \"\"\"\n",
    "    Returns a bootstrap sample of the dataset.\n",
    "\n",
    "    Parameters\n",
    "    ----------\n",
    "    dataset : numpy.ndarray\n",
    "        The dataset to be sampled.\n",
    "    n_samples : int\n",
    "        The number of samples to be returned.\n",
    "\n",
    "    Returns\n",
    "    -------\n",
    "    numpy.ndarray\n",
    "        The bootstrap sample.\n",
    "    \"\"\"\n",
    "    bootstrapped_datasets = []\n",
    "    \n",
    "    for sample_i in range(0, n_samples):\n",
    "        sampled_dataset = np.random.choice(dataset, len(dataset))\n",
    "        bootstrap_dataset.append(sampled_dataset)\n",
    "        print(sampled_dataset)\n",
    "\n",
    "    return bootstrapped_datasets"
   ]
  },
  {
   "cell_type": "code",
   "execution_count": null,
   "metadata": {},
   "outputs": [],
   "source": [
    "main_dataset = np.array([1, 2, 3, 4, 5, 6, 7, 8, 9, 10])\n",
    "\n",
    "bootstrap_dataset(main_dataset, sample_size = 4, number_of_samples = 10)"
   ]
  }
 ],
 "metadata": {
  "interpreter": {
   "hash": "665b0d270294f1f7b9e776a31521b122e933dde40d1e8ed48b86f2bbaa708081"
  },
  "kernelspec": {
   "display_name": "Python 3.8.10 ('machinelearning-PuZGdJ8l-py3.8')",
   "language": "python",
   "name": "python3"
  },
  "language_info": {
   "codemirror_mode": {
    "name": "ipython",
    "version": 3
   },
   "file_extension": ".py",
   "mimetype": "text/x-python",
   "name": "python",
   "nbconvert_exporter": "python",
   "pygments_lexer": "ipython3",
   "version": "3.8.10"
  },
  "orig_nbformat": 4
 },
 "nbformat": 4,
 "nbformat_minor": 2
}
