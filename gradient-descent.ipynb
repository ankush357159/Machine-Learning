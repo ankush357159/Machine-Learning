{
 "cells": [
  {
   "cell_type": "code",
   "execution_count": 1,
   "metadata": {},
   "outputs": [],
   "source": [
    "import matplotlib as mpl\n",
    "mpl.use('PDF')\n",
    "\n",
    "import numpy as np\n",
    "import matplotlib.pyplot as plt\n",
    "from numpy import linalg as LA\n"
   ]
  },
  {
   "cell_type": "code",
   "execution_count": 2,
   "metadata": {},
   "outputs": [],
   "source": [
    "def func(x,y):\n",
    "    return (0.75*x-1.5)**2 + (y-2.0)**2 + 0.25*x*y\n",
    "\n",
    "def func_grad(vx, vy):\n",
    "    dfdx = 1.125*vx - 2.25 + 0.25*vy\n",
    "    dfdy = 2.0*vy - 4.0 + 0.25*vx\n",
    "    return np.array([dfdx, dfdy])    "
   ]
  },
  {
   "cell_type": "code",
   "execution_count": 3,
   "metadata": {},
   "outputs": [],
   "source": [
    "# Prepare for contour plot\n",
    "xlist = np.linspace(0, 5, 26)\n",
    "ylist = np.linspace(0, 5, 26)\n",
    "x, y = np.meshgrid(xlist, ylist)\n",
    "z = func(x, y)\n",
    "lev = np.linspace(0, 20, 21)"
   ]
  },
  {
   "cell_type": "code",
   "execution_count": 4,
   "metadata": {},
   "outputs": [],
   "source": [
    "# Iterate location\n",
    "v_init = np.array([5,4])\n",
    "num_iter = 10\n",
    "values = np.zeros((num_iter, 2))\n",
    "\n",
    "for gamma in [0.01, 0.1, 0.2, 0.3, 0.5, 0.75]:\n",
    "    values[0, :] = v_init\n",
    "    v = v_init\n",
    "\n",
    "    # Actural gradient descent algorithm\n",
    "    for i in range(1, num_iter):\n",
    "        v = v - gamma * func_grad(v[0], v[1])\n",
    "        values[i, :] = v\n",
    "\n",
    "    # Plotting\n",
    "    plt.contour(x, y, z, levels=lev)\n",
    "    plt.plot(values[:,0], values[:,1], 'r-')\n",
    "    plt.plot(values[:,0], values[:,1], 'bo')\n",
    "    grad_norm = LA.norm(func_grad(v[0], v[1]))\n",
    "    title = \"gamma %0.2f | final grad %0.3f\" % (gamma, grad_norm)\n",
    "    plt.title(title)\n",
    "    file = \"gd-%2.0f.pdf\" % (gamma*100)\n",
    "    plt.savefig(file, bbox_inches='tight')\n",
    "    plt.clf()\n",
    "    plt.cla()\n",
    "\n",
    "    "
   ]
  },
  {
   "cell_type": "markdown",
   "metadata": {},
   "source": []
  },
  {
   "cell_type": "code",
   "execution_count": 5,
   "metadata": {},
   "outputs": [
    {
     "data": {
      "text/plain": [
       "array([[0.35420564],\n",
       "       [0.26305557]])"
      ]
     },
     "execution_count": 5,
     "metadata": {},
     "output_type": "execute_result"
    }
   ],
   "source": [
    "eta = 0.1\n",
    "n_iterations = 10\n",
    "m = 100\n",
    "theta = np.random.rand(2, 1) # random initialization\n",
    "\n",
    "for iteration in range(n_iterations):\n",
    "    # Compute gradient\n",
    "    gradients = 2/m * X.T.dot(X.dot(theta) - y)\n",
    "\n",
    "    # Update theta\n",
    "    theta = theta - eta * gradients\n"
   ]
  },
  {
   "cell_type": "code",
   "execution_count": null,
   "metadata": {},
   "outputs": [],
   "source": []
  }
 ],
 "metadata": {
  "interpreter": {
   "hash": "665b0d270294f1f7b9e776a31521b122e933dde40d1e8ed48b86f2bbaa708081"
  },
  "kernelspec": {
   "display_name": "Python 3.8.10 ('machinelearning-PuZGdJ8l-py3.8')",
   "language": "python",
   "name": "python3"
  },
  "language_info": {
   "codemirror_mode": {
    "name": "ipython",
    "version": 3
   },
   "file_extension": ".py",
   "mimetype": "text/x-python",
   "name": "python",
   "nbconvert_exporter": "python",
   "pygments_lexer": "ipython3",
   "version": "3.8.10"
  },
  "orig_nbformat": 4
 },
 "nbformat": 4,
 "nbformat_minor": 2
}
