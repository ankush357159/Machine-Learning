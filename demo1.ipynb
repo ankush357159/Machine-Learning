{
 "cells": [
  {
   "cell_type": "code",
   "execution_count": 2,
   "metadata": {},
   "outputs": [],
   "source": [
    "import pandas as pd\n",
    "\n",
    "data = pd.read_excel('Financial_data.xlsx')"
   ]
  },
  {
   "cell_type": "code",
   "execution_count": 3,
   "metadata": {},
   "outputs": [],
   "source": [
    "\n",
    "new_data = data.drop(['Discounts',  \"COGS\", 'Profit', 'Date', 'Month Name', 'Manufacturing Price','Sale Price', 'Month Number', 'Discount Band', 'Gross Sales'  ], axis=1)"
   ]
  },
  {
   "cell_type": "code",
   "execution_count": 4,
   "metadata": {},
   "outputs": [],
   "source": [
    "x = new_data[:10]"
   ]
  },
  {
   "cell_type": "code",
   "execution_count": 5,
   "metadata": {},
   "outputs": [
    {
     "name": "stdout",
     "output_type": "stream",
     "text": [
      "            Segment  Country    Product  Units Sold     Sales  Year\n",
      "0        Government   Canada  Carretera      1618.5   32370.0  2014\n",
      "1        Government  Germany  Carretera      1321.0   26420.0  2014\n",
      "2         Midmarket   France  Carretera      2178.0   32670.0  2014\n",
      "3         Midmarket  Germany  Carretera       888.0   13320.0  2014\n",
      "4         Midmarket   Mexico  Carretera      2470.0   37050.0  2014\n",
      "5        Government  Germany  Carretera      1513.0  529550.0  2014\n",
      "6         Midmarket  Germany    Montana       921.0   13815.0  2014\n",
      "7  Channel Partners   Canada    Montana      2518.0   30216.0  2014\n",
      "8        Government   France    Montana      1899.0   37980.0  2014\n",
      "9  Channel Partners  Germany    Montana      1545.0   18540.0  2014\n"
     ]
    }
   ],
   "source": [
    "print(x)"
   ]
  },
  {
   "cell_type": "code",
   "execution_count": 6,
   "metadata": {},
   "outputs": [
    {
     "data": {
      "text/plain": [
       "(10, 6)"
      ]
     },
     "execution_count": 6,
     "metadata": {},
     "output_type": "execute_result"
    }
   ],
   "source": [
    "x.shape"
   ]
  },
  {
   "cell_type": "code",
   "execution_count": 12,
   "metadata": {},
   "outputs": [
    {
     "data": {
      "text/plain": [
       "Segment        object\n",
       "Country        object\n",
       "Product        object\n",
       "Units Sold    float64\n",
       " Sales        float64\n",
       "Year            int64\n",
       "dtype: object"
      ]
     },
     "execution_count": 12,
     "metadata": {},
     "output_type": "execute_result"
    }
   ],
   "source": [
    "x.dtypes"
   ]
  },
  {
   "cell_type": "code",
   "execution_count": 9,
   "metadata": {},
   "outputs": [
    {
     "name": "stdout",
     "output_type": "stream",
     "text": [
      "            Segment  Country    Product  Units Sold     Sales  Year\n",
      "0        Government   Canada  Carretera      1618.5   32370.0  2014\n",
      "1        Government  Germany  Carretera      1321.0   26420.0  2014\n",
      "2         Midmarket   France  Carretera      2178.0   32670.0  2014\n",
      "3         Midmarket  Germany  Carretera       888.0   13320.0  2014\n",
      "4         Midmarket   Mexico  Carretera      2470.0   37050.0  2014\n",
      "5        Government  Germany  Carretera      1513.0  529550.0  2014\n",
      "6         Midmarket  Germany    Montana       921.0   13815.0  2014\n",
      "7  Channel Partners   Canada    Montana      2518.0   30216.0  2014\n",
      "8        Government   France    Montana      1899.0   37980.0  2014\n",
      "9  Channel Partners  Germany    Montana      1545.0   18540.0  2014\n"
     ]
    }
   ],
   "source": [
    "print(x[::])"
   ]
  },
  {
   "cell_type": "code",
   "execution_count": null,
   "metadata": {},
   "outputs": [],
   "source": []
  }
 ],
 "metadata": {
  "interpreter": {
   "hash": "665b0d270294f1f7b9e776a31521b122e933dde40d1e8ed48b86f2bbaa708081"
  },
  "kernelspec": {
   "display_name": "Python 3.8.10 ('machinelearning-PuZGdJ8l-py3.8')",
   "language": "python",
   "name": "python3"
  },
  "language_info": {
   "codemirror_mode": {
    "name": "ipython",
    "version": 3
   },
   "file_extension": ".py",
   "mimetype": "text/x-python",
   "name": "python",
   "nbconvert_exporter": "python",
   "pygments_lexer": "ipython3",
   "version": "3.8.10"
  },
  "orig_nbformat": 4
 },
 "nbformat": 4,
 "nbformat_minor": 2
}
