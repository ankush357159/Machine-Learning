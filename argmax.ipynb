{
 "cells": [
  {
   "cell_type": "code",
   "execution_count": 1,
   "metadata": {},
   "outputs": [],
   "source": [
    "def argmax(vector):\n",
    "    index, value = 0, vector[0]\n",
    "    for i, v in enumerate(vector):\n",
    "        if v > value:\n",
    "            index, value = i,v \n",
    "    return index\n",
    "\n",
    "    "
   ]
  },
  {
   "cell_type": "code",
   "execution_count": 2,
   "metadata": {},
   "outputs": [
    {
     "name": "stdout",
     "output_type": "stream",
     "text": [
      "arg max of [0.4, 0.5, 0.1]: 1\n"
     ]
    }
   ],
   "source": [
    "# Define vector\n",
    "vector = [0.4, 0.5, 0.1]\n",
    "\n",
    "# get argmax\n",
    "result = argmax(vector)\n",
    "print('arg max of %s: %d' %(vector, result))"
   ]
  },
  {
   "cell_type": "code",
   "execution_count": 5,
   "metadata": {},
   "outputs": [
    {
     "name": "stdout",
     "output_type": "stream",
     "text": [
      "arg max of [0.4, 0.5, 0.1]: 1\n"
     ]
    }
   ],
   "source": [
    "from numpy import argmax\n",
    "\n",
    "# Define vector\n",
    "vector = [0.4, 0.5, 0.1]\n",
    "\n",
    "# get argmax\n",
    "result = argmax(vector)\n",
    "print('arg max of %s: %d' %(vector, result))"
   ]
  },
  {
   "cell_type": "code",
   "execution_count": null,
   "metadata": {},
   "outputs": [],
   "source": []
  }
 ],
 "metadata": {
  "interpreter": {
   "hash": "665b0d270294f1f7b9e776a31521b122e933dde40d1e8ed48b86f2bbaa708081"
  },
  "kernelspec": {
   "display_name": "Python 3.8.10 ('machinelearning-PuZGdJ8l-py3.8')",
   "language": "python",
   "name": "python3"
  },
  "language_info": {
   "codemirror_mode": {
    "name": "ipython",
    "version": 3
   },
   "file_extension": ".py",
   "mimetype": "text/x-python",
   "name": "python",
   "nbconvert_exporter": "python",
   "pygments_lexer": "ipython3",
   "version": "3.8.10"
  },
  "orig_nbformat": 4
 },
 "nbformat": 4,
 "nbformat_minor": 2
}
